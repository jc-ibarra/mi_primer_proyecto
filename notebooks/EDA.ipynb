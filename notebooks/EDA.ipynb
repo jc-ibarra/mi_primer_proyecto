import pandas as pd
import plotly.express as px

# Cargar los datos
car_data = pd.read_csv('../vehicles_us.csv')  # Asegúrate de que la ruta al archivo CSV sea correcta.

# Visualizar algunas filas de los datos
car_data.head()

fig = px.histogram(car_data, x='odometer')
fig.show()
